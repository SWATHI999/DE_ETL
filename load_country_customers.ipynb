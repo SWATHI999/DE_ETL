{
 "cells": [
  {
   "cell_type": "code",
   "execution_count": null,
   "id": "69683e11",
   "metadata": {},
   "outputs": [],
   "source": [
    "import glob\n",
    "import pandas as pd\n",
    "import cx_Oracle\n",
    "conn = cx_Oracle.connect('/@db')\n"
   ]
  },
  {
   "cell_type": "code",
   "execution_count": null,
   "id": "490988fa",
   "metadata": {},
   "outputs": [],
   "source": [
    "def exec_query(query, conn):\n",
    "    cur = conn.cursor()\n",
    "    cur.execute(query)\n",
    "    conn.commit()\n",
    "    cur.close()"
   ]
  },
  {
   "cell_type": "code",
   "execution_count": null,
   "id": "739dcb5e",
   "metadata": {},
   "outputs": [],
   "source": [
    "create_tbl_query = \"\"\"\n",
    "CREATE TABLE world_vacc_customers (\n",
    "Name VARCHAR(255) PRIMARY KEY,\n",
    "Cust_I VARCHAR(18) NOT NULL,\n",
    "Open_Dt DATE NOT NULL,\n",
    "Consul_Dt DATE,\n",
    "VAC_ID CHAR(5),\n",
    "DR_Name CHAR(255),\n",
    "State CHAR(5),\n",
    "County CHAR(5),\n",
    "DOB DATE,\n",
    "FLAG CHAR(1)\n",
    "\n",
    ")\n",
    "\n",
    "\"\"\""
   ]
  },
  {
   "cell_type": "code",
   "execution_count": null,
   "id": "5b35e5c4",
   "metadata": {},
   "outputs": [],
   "source": [
    "exec_query(create_tbl_query, conn)"
   ]
  },
  {
   "cell_type": "code",
   "execution_count": null,
   "id": "0bef2aec",
   "metadata": {},
   "outputs": [],
   "source": [
    "insert_sql='INSERT INTO world_vacc_customers VALUES(:1,:2,:3,:4,:5,:6,:7,:8,:9,:10)'"
   ]
  },
  {
   "cell_type": "code",
   "execution_count": null,
   "id": "50bcf263",
   "metadata": {},
   "outputs": [],
   "source": [
    "def insert_df_tbl(df,conn,insert_qry):\n",
    "    rows = [tuple(x) for x in df.values]\n",
    "    cur = conn.cursor()\n",
    "    cur.executemany(insert_query, rows)\n",
    "    conn.commit()\n",
    "    cur.close()"
   ]
  },
  {
   "cell_type": "code",
   "execution_count": null,
   "id": "d0f894dd",
   "metadata": {},
   "outputs": [],
   "source": [
    "data_files = glob.glob(\"./*.csv\")\n",
    "for file in data_files:\n",
    "    data = pd.read_csv(file, sep='|', index_col=False)\n",
    "    data.drop(['Unnamed: 0','H'],inplace=True,axis=1)\n",
    "    insert_df_tbl(data,conn,insert_sql)\n",
    "    "
   ]
  },
  {
   "cell_type": "code",
   "execution_count": null,
   "id": "0df67e17",
   "metadata": {},
   "outputs": [],
   "source": [
    "create_country_tbl_qry = \"\"\"\n",
    "\n",
    "CREATE TABLE Table_{country_name} AS \n",
    "SELECT * FROM world_vacc_customers WHERE UPPER(County)={country_name}\n",
    "\n",
    "\"\"\""
   ]
  },
  {
   "cell_type": "code",
   "execution_count": null,
   "id": "fc17df11",
   "metadata": {},
   "outputs": [],
   "source": [
    "unique_countries = pd.read_sql_query(\"\"\"\n",
    "SELECT DISTINCT UPPER(County) FROM world_vacc_customers\n",
    "\"\"\",conn)"
   ]
  },
  {
   "cell_type": "code",
   "execution_count": null,
   "id": "1677b1d3",
   "metadata": {},
   "outputs": [],
   "source": [
    "for country in unique_countries:\n",
    "    create_country_tbl_qry = create_country_tbl_qry.format(country_name=country)\n",
    "    exec_query(create_country_tbl_qry, conn)"
   ]
  },
  {
   "cell_type": "code",
   "execution_count": null,
   "id": "4f4b9c59",
   "metadata": {},
   "outputs": [],
   "source": [
    "conn.close()"
   ]
  }
 ],
 "metadata": {
  "kernelspec": {
   "display_name": "Python 3",
   "language": "python",
   "name": "python3"
  },
  "language_info": {
   "codemirror_mode": {
    "name": "ipython",
    "version": 3
   },
   "file_extension": ".py",
   "mimetype": "text/x-python",
   "name": "python",
   "nbconvert_exporter": "python",
   "pygments_lexer": "ipython3",
   "version": "3.8.8"
  }
 },
 "nbformat": 4,
 "nbformat_minor": 5
}
